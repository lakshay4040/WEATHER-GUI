{
 "cells": [
  {
   "cell_type": "code",
   "execution_count": 16,
   "metadata": {},
   "outputs": [],
   "source": [
    "import tkinter as tk\n",
    "import requests\n",
    "\n",
    "\n",
    "def finalresponse(weather):\n",
    "    name= weather['name']\n",
    "    description= weather['weather'][0]['description']\n",
    "    temp= weather['main']['temp']\n",
    "    return str(name) + ' ' + str(description) + ' ' + str(temp)\n",
    "\n",
    "def check_weather(city):\n",
    "    weather_key='e344045a8d3e0a5e36217ef7a46c2859'\n",
    "    url='http://api.openweathermap.org/data/2.5/weather'\n",
    "    params={'APPID':weather_key, 'q': city, 'units':'metric'}\n",
    "    response=requests.get(url, params=params)\n",
    "    weather=response.json()\n",
    "    label['text']=finalresponse(weather)\n",
    "\n",
    "    \n",
    "root = tk.Tk()\n",
    "\n",
    "canvas=tk.Canvas(root, height=10000, width=10000, bg=\"white\" )\n",
    "canvas.pack()\n",
    "\n",
    "#background_image=tk.PhotoImage(file='download.png')\n",
    "#background_label=tk.Label(root, image=background_image)\n",
    "#background_label.place(relwidth=1, relheight=1)\n",
    "\n",
    "frame=tk.Frame(root, bg=\"#bddcf9\", bd=12)\n",
    "frame.place(relx=0.5,rely=0.1, relwidth=0.75, relheight=0.1, anchor='n')\n",
    "\n",
    "entry=tk.Entry(frame, bg=\"#faffa0\", fg=\"#3f2307\", width=60, font=50)\n",
    "entry.grid(row=0,column=2)\n",
    "entry.place(relwidth=0.65, relheight=1)\n",
    "\n",
    "button=tk.Button(frame,height= 1, width=20, text=\"Check Weather\", bg=\"#03086d\", fg=\"#fffec4\", activebackground=\"#fffec4\", activeforeground=\"#03086d\", font=50, command=lambda: check_weather(entry.get()))\n",
    "button.place(relx=0.7, relheight=1, relwidth=0.3)\n",
    "\n",
    "lower_frame=tk.Frame(root, bg=\"#bddcf9\", bd=12 )\n",
    "lower_frame.place(relx=0.5, rely=0.25, relwidth=0.75, relheight=0.6, anchor='n')\n",
    "\n",
    "\n",
    "label=tk.Label(lower_frame, bg=\"#faffa0\",font=50,text=\"\\n\\n\\n\\n\\n\\n\\n\\n\\n\\n\\n\\n\\n\\n\\n\\n\\n\\n\\n\\n||Created by Lakshay Gupta on 10/3/19||\")\n",
    "label.place(relwidth=1, relheight=1)\n",
    "\n",
    "\n",
    "root.mainloop()\n",
    "\n"
   ]
  },
  {
   "cell_type": "code",
   "execution_count": null,
   "metadata": {},
   "outputs": [],
   "source": []
  },
  {
   "cell_type": "code",
   "execution_count": null,
   "metadata": {},
   "outputs": [],
   "source": []
  }
 ],
 "metadata": {
  "kernelspec": {
   "display_name": "Python 3",
   "language": "python",
   "name": "python3"
  },
  "language_info": {
   "codemirror_mode": {
    "name": "ipython",
    "version": 3
   },
   "file_extension": ".py",
   "mimetype": "text/x-python",
   "name": "python",
   "nbconvert_exporter": "python",
   "pygments_lexer": "ipython3",
   "version": "3.7.1"
  }
 },
 "nbformat": 4,
 "nbformat_minor": 2
}
